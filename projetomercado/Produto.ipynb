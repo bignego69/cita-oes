{
  "cells": [
    {
      "cell_type": "code",
      "execution_count": null,
      "metadata": {
        "colab": {
          "base_uri": "https://localhost:8080/"
        },
        "id": "tdrpHHnwrM5t",
        "outputId": "83629c7b-ce6a-4168-9354-ed1ba3666d2b"
      },
      "outputs": [
        {
          "name": "stdout",
          "output_type": "stream",
          "text": [
            "Produto criado com sucesso\n",
            "Produto criado com sucesso\n",
            "Produto criado com sucesso\n"
          ]
        }
      ],
      "source": [
        "class Produto:\n",
        "    def __init__(self, nome, preco, mercado):\n",
        "        self.nome = nome\n",
        "        self.preco = preco\n",
        "        self.mercado = mercado\n",
        "        print(\"Produto criado com sucesso\")\n",
        "\n",
        "produto1 = Produto(\"Maçã\", 2.50, \"Supermercado A\")\n",
        "produto2 = Produto(\"Banana\", 1.80, \"Feira\")\n",
        "produto3 = Produto(\"Leite\", 3.20, \"Supermercado B\")\n",
        "\n",
        "class Padaria(Produto)\n",
        "def__init__(self,nome,preco,setor,temp,val)\n",
        "     super( ).__init__(nome,preco,setor)\n",
        "     self.temp=temp\n",
        "     self.val=val\n",
        "print(\"produto padaria cadastrado\")\n",
        "\n",
        "class Acougue(Produto)\n",
        "def__init__(self,nome,preco,setor,temp,val)\n",
        "     super( ).__init__(nome,preco,setor)\n",
        "     self.temp=temp\n",
        "     self.val=val\n",
        "\n",
        "produto1 = Acougue(\"Maminha\", 50.00, \"Acougue\", \"4\", \"2024-06-30\")\n",
        "produto2 = Acougue(\"Coxao mole\", 39.80, \"Acougue\", \"3\", \"2024-07-05\")\n",
        "produto3 = Acougue(\"Alcatra\", 44.20, \"Acougue\", \"2\", \"2024-06-25\")\n",
        "produto4 = Acougue(\"Picanha\", 67.50, \"Acougue\", \"3\", \"2024-07-10\")\n",
        "produto5 = Acougue(\"Frango\", 25.80, \"Acougue\", \"2\", \"2024-06-20\")\n",
        "produto6 = Acougue(\"Acem moido\", 31.20, \"Acougue\", \"1\", \"2024-06-28\")"
      ]
    },
    {
      "cell_type": "code",
      "execution_count": null,
      "metadata": {},
      "outputs": [],
      "source": []
    }
  ],
  "metadata": {
    "colab": {
      "provenance": []
    },
    "kernelspec": {
      "display_name": "Python 3",
      "name": "python3"
    },
    "language_info": {
      "name": "python"
    }
  },
  "nbformat": 4,
  "nbformat_minor": 0
}
